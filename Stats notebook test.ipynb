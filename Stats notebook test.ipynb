{
 "cells": [
  {
   "cell_type": "markdown",
   "metadata": {},
   "source": [
    "## STATISTICS WORKSHOP  \n",
    "__TEST__  "
   ]
  },
  {
   "cell_type": "markdown",
   "metadata": {},
   "source": [
    "__USING THE NOTEBOOK__  \n",
    "The present notebook is composed of text and code cells. The former include the instructions for the activity and look just like regular text in a webpage. The code cells look like gray squares with empty square brackets to their left ([ ]). To run the code inside the code cells you'll need to click on it and then click \"shift\" + \"enter\", this will make the outcome of the come to appear underneath the cell.  \n",
    "We will be using the software package R to do the statistical analysis.  \n"
   ]
  },
  {
   "cell_type": "markdown",
   "metadata": {},
   "source": [
    "__LOADING THE DATABASE__  \n",
    "In this exercise we will use a database of patients evaluated for obstructive sleep apnea syndrome (OSAS). Each patient filled out a survey where epidemiological characteristics and symptoms were recorded. The database will contain some of those characteristics along with whether they had OSAS or not, and its severity, based on a measure of how frequently the patient stops breathing through the nigh called the Apnea-Hypopnea Index (ahi). \n",
    "We will upload the data we'll work into memory from a CSV file in the website GitHub"
   ]
  },
  {
   "cell_type": "code",
   "execution_count": null,
   "metadata": {},
   "outputs": [],
   "source": [
    "data = read.csv(\"https://raw.githubusercontent.com/gapatino/stats-notebooks/master/stats_workshop_database.csv\", \n",
    "                header=T)"
   ]
  },
  {
   "cell_type": "markdown",
   "metadata": {},
   "source": [
    "To make sure if the file was properly loaded we will display the first few rows of it"
   ]
  },
  {
   "cell_type": "code",
   "execution_count": null,
   "metadata": {},
   "outputs": [],
   "source": [
    "head(data)"
   ]
  },
  {
   "cell_type": "markdown",
   "metadata": {},
   "source": [
    "As you can see the variable data is a spreasheet where each row is a different patient, and each column is a different characteristic of the patient (the variables).  \n",
    "Some of the variables seem to be numerical, while others are likely categorical.  \n",
    "To get a better understanding of the data we can use the <code>summary</code> function."
   ]
  },
  {
   "cell_type": "code",
   "execution_count": null,
   "metadata": {},
   "outputs": [],
   "source": [
    "summary(data)"
   ]
  },
  {
   "cell_type": "markdown",
   "metadata": {},
   "source": [
    "The summary demonstrates that age, bmi, and ahi are numerical variables. Age is discrete, while the other two are continuous. For all of them we get some basic statistics like the mean, median, minimum and maximum values. This is a good time to do quality of control of your data, by making sure that the values reported (especially the maximum and minimum) in each variable are make sense.   \n",
    "Gender, snoring, apnea, alcohol, smoking, hypertension, and osas are binary variables. osas_severity is the only categorical variable with 4 different levels. Summary displays how many patients are in each category for the different categorical variables.   \n",
    "Another quality control you should do at this point is to check if there are any cells with missing values, these would show as \"NA's\" counts in the respective column. None of our columns have them so we can proceed with the analysis."
   ]
  },
  {
   "cell_type": "markdown",
   "metadata": {},
   "source": [
    "__Checking numerical variables for normal distribution__  \n",
    "The first step is to decide if we need to use parametric or non-parametric methods in our statistical analysis, and this depends on whether our data is normally distributed or not.\n",
    "A first approximation to this is to produce the histogram for the distribution of age, but since we will probably compare the ages of people with and without osas then we have to check for normal distribution of each group separately."
   ]
  },
  {
   "cell_type": "code",
   "execution_count": null,
   "metadata": {},
   "outputs": [],
   "source": [
    "hist(data$age[data$osas==TRUE])"
   ]
  },
  {
   "cell_type": "markdown",
   "metadata": {},
   "source": [
    "The <code>hist()</code> function produces the histogram of the data in the parenthesis. In R <code>data\\$age</code> means to take the column _age_ from the variable _data_, while <code>data\\$age\\[data\\$osas==TRUE\\]</code> means to take only the values in the column _age_ from patients (rows) that had a _TRUE_ value in the _osas_ column.  \n",
    "In the following code cell make the histogram for the ages of patients that did not have a diagnosis of OSAS."
   ]
  },
  {
   "cell_type": "code",
   "execution_count": null,
   "metadata": {},
   "outputs": [],
   "source": []
  },
  {
   "cell_type": "markdown",
   "metadata": {},
   "source": [
    "__Comparing numerical variables from two groups__\n",
    "If we want to know if the patients diagnosed with OSAS tend to be younger or older than those without the disease, then our independent variable (age) is continuous while the dependent variable (osas) is binary. For this situation we can use a _t_-test if the independent variables are normally distributed, or a Wilcoxon rank-sum test if not."
   ]
  },
  {
   "cell_type": "code",
   "execution_count": null,
   "metadata": {},
   "outputs": [],
   "source": [
    "t.test(data$age~data$osas, \n",
    "      paired=FALSE,\n",
    "      alternative=\"two.sided\",\n",
    "      var.equal=TRUE,\n",
    "      conf.level=0.95)"
   ]
  },
  {
   "cell_type": "code",
   "execution_count": null,
   "metadata": {},
   "outputs": [],
   "source": [
    "wilcox.test(data$age~data$osas, \n",
    "            paired=FALSE,\n",
    "            alternative=\"two.sided\",\n",
    "            conf.level=0.95,\n",
    "            conf.int=TRUE,\n",
    "           )"
   ]
  },
  {
   "cell_type": "code",
   "execution_count": null,
   "metadata": {},
   "outputs": [],
   "source": [
    "barplot(c(mean(data$age[data$osas==TRUE]),\n",
    "         mean(data$age[data$osas==FALSE])))"
   ]
  },
  {
   "cell_type": "code",
   "execution_count": null,
   "metadata": {},
   "outputs": [],
   "source": []
  }
 ],
 "metadata": {
  "kernelspec": {
   "display_name": "R",
   "language": "R",
   "name": "ir"
  },
  "language_info": {
   "codemirror_mode": "r",
   "file_extension": ".r",
   "mimetype": "text/x-r-source",
   "name": "R",
   "pygments_lexer": "r",
   "version": "3.4.4"
  }
 },
 "nbformat": 4,
 "nbformat_minor": 2
}
