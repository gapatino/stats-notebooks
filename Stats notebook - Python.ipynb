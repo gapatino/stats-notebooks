{
 "cells": [
  {
   "cell_type": "markdown",
   "metadata": {},
   "source": [
    "## STATISTICS WORKSHOP  \n",
    "  \n",
    "__Victoria Lucia__  \n",
    "__Gustavo A. Patino__  \n",
    "  \n",
    "Embark I  \n",
    "March, 2019"
   ]
  },
  {
   "cell_type": "markdown",
   "metadata": {},
   "source": [
    "__USING THE NOTEBOOK__  \n",
    "The present notebook is composed of text and code cells. The former include the instructions for the activity and look just like regular text in a webpage. The code cells look like gray squares with empty square brackets to their left ([ ]). To run the code inside a code cells you'll need to click on it and then click \"shift\" + \"enter\", this will make the outcome of the come to appear underneath the cell.  \n",
    "  \n",
    "The next code cell will upload all the libraries and functions we'll need for the workshop. Please click \"shift\" + \"enter\" on it."
   ]
  },
  {
   "cell_type": "code",
   "execution_count": null,
   "metadata": {},
   "outputs": [],
   "source": [
    "# Loading Python libraries\n",
    "import numpy as np\n",
    "import pandas as pd\n",
    "import scipy.stats as stats\n",
    "import statsmodels.api as sm\n",
    "import statsmodels.stats.multicomp as multi\n",
    "from statsmodels.formula.api import ols\n",
    "%matplotlib inline\n",
    "import matplotlib.pyplot as plt\n",
    "import seaborn as sns\n",
    "sns.set()\n",
    "pd.options.display.float_format = '{:.3f}'.format\n",
    "np.set_printoptions(precision=3, suppress=True)\n",
    "\n",
    "\n",
    "# Statistics functions\n",
    "def parammct(data=None, independent=None, dependent=None):\n",
    "    \n",
    "    independent = str(independent)\n",
    "    dependent = str(dependent)\n",
    "    if input_check_numerical_categorical(data, independent, dependent):\n",
    "        return\n",
    "    \n",
    "    parammct_df = pd.DataFrame()\n",
    "    for value in pd.unique(data[independent]):\n",
    "        mean = data[dependent][data[independent]==value].mean()\n",
    "        stdev = data[dependent][data[independent]==value].std()\n",
    "        n = data[dependent][data[independent]==value].count()\n",
    "        sdemean = stdev/np.sqrt(n)\n",
    "        ci = 1.96*sdemean\n",
    "        lowerboundci = mean-ci\n",
    "        upperboundci = mean+ci\n",
    "        parammct_df[value] = pd.Series([mean, stdev, n, sdemean, lowerboundci, upperboundci], \n",
    "                                       index = ['Mean','SD','n','SEM','Lower bound CI', 'Upper bound CI'])\n",
    "        \n",
    "    return parammct_df\n",
    "\n",
    "\n",
    "def non_parammct(data=None, independent=None, dependent=None):\n",
    "    \n",
    "    independent = str(independent)\n",
    "    dependent = str(dependent)\n",
    "    if input_check_numerical_categorical(data, independent, dependent):\n",
    "        return\n",
    "    \n",
    "    non_parammct_df = pd.DataFrame()\n",
    "    for value in pd.unique(data[independent]):\n",
    "        median = data[dependent][data[independent]==value].median()\n",
    "        minimum = data[dependent][data[independent]==value].quantile(0)\n",
    "        q25 = data[dependent][data[independent]==value].quantile(0.25)\n",
    "        q75 = data[dependent][data[independent]==value].quantile(0.75)\n",
    "        maximum = data[dependent][data[independent]==value].quantile(1)\n",
    "        non_parammct_df[value] = pd.Series([median, minimum, q25,q75, maximum], \n",
    "                                           index = ['Median', 'Minimum', 'Lower bound IQR', 'Upper bound IQR', \n",
    "                                                    'Maximum'])\n",
    "        \n",
    "    return non_parammct_df\n",
    "\n",
    "\n",
    "def histograms(data=None, independent=None, dependent=None):\n",
    "    \n",
    "    independent = str(independent)\n",
    "    dependent = str(dependent)\n",
    "    if input_check_numerical_categorical(data, independent, dependent):\n",
    "        return\n",
    "    \n",
    "    for value in pd.unique(data[independent]):\n",
    "        sns.distplot(data[dependent][data[independent]==value], fit=stats.norm, kde=False)\n",
    "        plt.title(dependent + ' by ' + independent + '(' + str(value).lower() + ')', \n",
    "                  fontweight='bold', fontsize=16)\n",
    "        plt.ylabel('Frequency', fontsize=14)\n",
    "        plt.xlabel(dependent, fontsize=14)\n",
    "        plt.show()\n",
    "    \n",
    "    return \n",
    "\n",
    "\n",
    "def t_test(data=None, independent=None, dependent=None):\n",
    "    \n",
    "    pd.set_eng_float_format(accuracy=3, use_eng_prefix=False)\n",
    "    independent_groups = pd.unique(data[independent])\n",
    "    if len(independent_groups)>2:\n",
    "        print('There are more than 2 groups in the independent variable')\n",
    "        print('t-test is not the correct statistical test to run in that circumstance,')\n",
    "        print('consider running an ANOVA')\n",
    "        return\n",
    "    \n",
    "    mct = parammct(data=data, independent=independent, dependent=dependent)\n",
    "    \n",
    "    t_test_value, p_value = stats.ttest_ind(data[dependent][data[independent] == independent_groups[0]], \n",
    "                                            data[dependent][data[independent] == independent_groups[1]])\n",
    "    \n",
    "    difference_mean = np.abs(mct.loc['Mean'][0] - mct.loc['Mean'][1])\n",
    "    pooled_sd = np.sqrt( ( ((mct.loc['n'][0]-1)*mct.loc['SD'][0]**2) + ((mct.loc['n'][1]-1)*mct.loc['SD'][1]**2) ) / \n",
    "                         (mct.loc['n'][0] + mct.loc['n'][1] - 2) )\n",
    "    sedifference = pooled_sd * np.sqrt( (1/mct.loc['n'][0]) + (1/mct.loc['n'][1]) )\n",
    "    difference_mean_ci1 = difference_mean + (t_test_value * sedifference)\n",
    "    difference_mean_ci2 = difference_mean - (t_test_value * sedifference)\n",
    "    if difference_mean_ci1>difference_mean_ci2:\n",
    "        difference_mean_cilower = difference_mean_ci2\n",
    "        difference_mean_ciupper = difference_mean_ci1\n",
    "    else:\n",
    "        difference_mean_cilower = difference_mean_ci1\n",
    "        difference_mean_ciupper = difference_mean_ci2\n",
    "    cohend = difference_mean / pooled_sd\n",
    "    t_test_result= pd.Series ([difference_mean, sedifference, t_test_value, p_value, \n",
    "                               difference_mean_cilower, difference_mean_ciupper, cohend], \n",
    "                              index = ['Difference between means', 'SE difference', 't-test', 'p-value', \n",
    "                                       'Lower bound difference CI', 'Upper bound difference CI', 'Cohen\\'s d'])\n",
    "    \n",
    "    return t_test_result\n",
    "\n",
    "\n",
    "def anova(data=None, independent=None, dependent=None):\n",
    "    \n",
    "    pd.set_eng_float_format(accuracy=3, use_eng_prefix=False)\n",
    "    \n",
    "    independent = str(independent)\n",
    "    dependent = str(dependent)\n",
    "    if input_check_numerical_categorical(data, independent, dependent):\n",
    "        return\n",
    "    \n",
    "    formula = dependent + ' ~ ' + independent\n",
    "    model = ols(formula, data=data).fit()\n",
    "    aov_table = sm.stats.anova_lm(model, typ=2)\n",
    "    aov_table.rename(columns={'PR(>F)':'p'}, inplace=True)\n",
    "    aov_table['F'] = pd.Series([aov_table['F'][0], ''], index = [independent, 'Residual'])\n",
    "    aov_table['p'] = pd.Series([aov_table['p'][0], ''], index = [independent, 'Residual'])\n",
    "    eta_sq = aov_table['sum_sq'][0]/(aov_table['sum_sq'][0]+aov_table['sum_sq'][1])\n",
    "    aov_table['Eta squared'] = pd.Series([eta_sq, ''], index = [independent, 'Residual'])\n",
    "    \n",
    "    return aov_table\n",
    "\n",
    "\n",
    "def tukey(data=None, independent=None, dependent=None):\n",
    "    \n",
    "    pd.set_eng_float_format(accuracy=3, use_eng_prefix=False)\n",
    "    \n",
    "    independent = str(independent)\n",
    "    dependent = str(dependent)\n",
    "    if input_check_numerical_categorical(data, independent, dependent):\n",
    "        return\n",
    "    \n",
    "    test = multi.MultiComparison(data[dependent], data[independent])\n",
    "    res = test.tukeyhsd()\n",
    "    print(res.summary())\n",
    "    \n",
    "    return\n",
    "\n",
    "\n",
    "def chi_square(data=None, variable1=None, variable2=None):\n",
    "    \n",
    "    pd.set_eng_float_format(accuracy=3, use_eng_prefix=False)\n",
    "    \n",
    "    variable1 = str(variable1)\n",
    "    variable2 = str(variable2)\n",
    "    if input_check_categorical_categorical(data, variable1, variable2):\n",
    "        return\n",
    "    \n",
    "    values_var1=pd.unique(data[variable1])\n",
    "    values_var2=pd.unique(data[variable2])\n",
    "    \n",
    "    problem_found=False\n",
    "    for variable in [values_var1, values_var2]:\n",
    "        if len(variable)<2:\n",
    "            print(variable, 'has less than two categories. It has:', len(variable))\n",
    "            problem_found=True\n",
    "    if problem_found:\n",
    "        return\n",
    "    \n",
    "    contingency_table = pd.crosstab(data[variable1], data[variable2])\n",
    "    print('\\033[1m' + 'Contingency Table' + '\\033[0m')\n",
    "    print(contingency_table, '\\n\\n')\n",
    "    print('\\033[1m' + 'Chi-square results' + '\\033[0m')\n",
    "    \n",
    "    chi2_test=stats.chi2_contingency(contingency_table, correction=False)\n",
    "    \n",
    "    chi2_result= pd.Series ([chi2_test[0], chi2_test[1], chi2_test[2], chi2_test[3]], \n",
    "                            index = ['Chi-square value', 'p-value', 'Degrees of freedom', 'Expected frequencies'])\n",
    "    \n",
    "    return chi2_result\n",
    "\n",
    "\n",
    "def logistic_reg(data=None, independent=None, dependent=None):\n",
    "    \n",
    "    pd.set_eng_float_format(accuracy=3, use_eng_prefix=False)\n",
    "    \n",
    "    independent = str(independent)\n",
    "    dependent = str(dependent)\n",
    "    if input_check_categorical(data, independent, dependent):\n",
    "        return\n",
    "    \n",
    "    if not len(pd.unique(data[dependent]))==2:\n",
    "        print('Dependent variable must have two categories')\n",
    "        print(dependent, 'variable has', len(pd.unique(data[dependent])), 'categories')\n",
    "        return\n",
    "    \n",
    "    data['interceptant']=1\n",
    "    independent=[independent, 'interceptant']\n",
    "    logReg = sm.Logit(data[dependent], data[independent])\n",
    "    regression = logReg.fit()\n",
    "    print(regression.summary(), '\\n')\n",
    "    print('\\033[1m' + 'Coefficients confidence intervals' + '\\033[0m')\n",
    "    print(regression.conf_int())\n",
    "    \n",
    "    predicted_values =regression.predict()\n",
    "    plt.plot(data['age'], data['osas'], 'o', label='Actual values')\n",
    "    plt.plot(data['age'], predicted_values, 'ok', label='Predicted probabilities')\n",
    "    plt.xlabel('Age', fontsize=14)\n",
    "    plt.ylabel('OSAS', fontsize=14)\n",
    "    plt.ylim(-0.05, 1.05)\n",
    "    plt.legend()\n",
    "    plt.show()\n",
    "    \n",
    "    return\n",
    "\n",
    "\n",
    "# Functions to validate statistical functions inputs\n",
    "def input_check_numerical_categorical(data, independent, dependent):\n",
    "    \n",
    "    problem_found=check_input_dataframe(data)\n",
    "    if check_variable_specified(independent):\n",
    "        print ('An independent variable was not specified')\n",
    "        problem_found=True\n",
    "    if check_variable_specified(dependent):\n",
    "        print ('A dependent variable was not specified')\n",
    "        problem_found=True\n",
    "    if problem_found:\n",
    "        return problem_found\n",
    "    \n",
    "    if check_variables_are_columns(data, independent, dependent):\n",
    "        return True\n",
    "    \n",
    "    if check_variable_types(data, dependent, ['int', 'float']):\n",
    "        problem_found=True\n",
    "    if check_variable_types(data, independent, ['bool', 'category']):\n",
    "        problem_found=True\n",
    "    \n",
    "    return problem_found\n",
    "\n",
    "\n",
    "def input_check_numerical_numerical(data, variable1, variable2):\n",
    "    \n",
    "    problem_found=check_input_dataframe(data)\n",
    "    if check_variable_specified(variable1) or check_variable_specified(variable2):\n",
    "        print ('Two variables must be specified')\n",
    "        problem_found=True\n",
    "    if problem_found:\n",
    "        return problem_found\n",
    "    \n",
    "    if check_variables_are_columns(data, variable1, variable2):\n",
    "        return True\n",
    "    \n",
    "    for variable in [variable1, variable2]:\n",
    "        if check_variable_types(data, variable, ['int', 'float']):\n",
    "            problem_found=True\n",
    "\n",
    "    return problem_found\n",
    "\n",
    "\n",
    "def input_check_categorical_categorical(data, variable1, variable2):\n",
    "    \n",
    "    problem_found=check_input_dataframe(data)\n",
    "    if check_variable_specified(variable1) or check_variable_specified(variable2):\n",
    "        print ('Two variables must be specified')\n",
    "        problem_found=True\n",
    "    if problem_found:\n",
    "        return problem_found\n",
    "    \n",
    "    if check_variables_are_columns(data, variable1, variable2):\n",
    "        return True\n",
    "    \n",
    "    for variable in [variable1, variable2]:\n",
    "        if check_variable_types(data, variable, ['bool', 'category']):\n",
    "            problem_found=True\n",
    "\n",
    "    return problem_found\n",
    "\n",
    "\n",
    "def input_check_categorical(data, independent, dependent):\n",
    "    \n",
    "    problem_found=check_input_dataframe(data)\n",
    "    if check_variable_specified(independent):\n",
    "        print ('An independent variable was not specified')\n",
    "        problem_found=True\n",
    "    if check_variable_specified(dependent):\n",
    "        print ('A dependent variable was not specified')\n",
    "        problem_found=True\n",
    "    if problem_found:\n",
    "        return problem_found\n",
    "    \n",
    "    if check_variables_are_columns(data, independent, dependent):\n",
    "        return True\n",
    "    \n",
    "    if check_variable_types(data, dependent, ['bool', 'category']):\n",
    "        problem_found=True\n",
    "\n",
    "    return problem_found\n",
    "\n",
    "\n",
    "# Functions to validate individual inputs\n",
    "def check_input_dataframe(data):\n",
    "\n",
    "    if not str(type(data))=='<class \\'pandas.core.frame.DataFrame\\'>':\n",
    "        print (data, 'is not a DataFrame')\n",
    "        return True \n",
    "    else:\n",
    "        return False\n",
    "\n",
    "\n",
    "def check_variable_specified(variable):\n",
    "\n",
    "    if variable==None:\n",
    "        return True\n",
    "    else:\n",
    "        return False\n",
    "\n",
    "\n",
    "def check_variable_is_column(data, variable):\n",
    "\n",
    "    if variable not in data.columns:\n",
    "        print (variable, 'is not a column of', data, 'dataset')\n",
    "        return True\n",
    "    else:\n",
    "        return False\n",
    "\n",
    "\n",
    "def check_variables_are_columns(data, variable1, variable2):\n",
    "\n",
    "    problem_found=False\n",
    "    for variable in [variable1, variable2]:\n",
    "        if check_variable_is_column(data, variable):\n",
    "            problem_found=True\n",
    "    return problem_found\n",
    "\n",
    "\n",
    "def check_variable_types(data, variable, data_types):\n",
    "\n",
    "    if data[variable].dtypes not in data_types:\n",
    "        print (variable, 'is not of', data_types, 'type')\n",
    "        return True\n",
    "    else:\n",
    "        return False"
   ]
  },
  {
   "cell_type": "markdown",
   "metadata": {},
   "source": [
    "__LOADING THE DATABASE__  \n",
    "In this exercise we will use a database of patients evaluated for obstructive sleep apnea syndrome (OSAS). Each patient filled out a survey where epidemiological characteristics and symptoms were recorded. The database will contain some of those characteristics along with whether they had OSAS or not, and its severity, based on a measure of how frequently the patient stops breathing through the nigh called the Apnea-Hypopnea Index (ahi).  \n",
    "  \n",
    "We will upload the data we'll work into memory from a CSV file in the website GitHub and put it in a variable called \"data\". Please execute the following code cells."
   ]
  },
  {
   "cell_type": "code",
   "execution_count": null,
   "metadata": {},
   "outputs": [],
   "source": [
    "data = pd.read_csv(\"https://raw.githubusercontent.com/gapatino/stats-notebooks/master/stats_workshop_database.csv\")"
   ]
  },
  {
   "cell_type": "markdown",
   "metadata": {},
   "source": [
    "Then define some of the columns in the database as categorical variables"
   ]
  },
  {
   "cell_type": "code",
   "execution_count": null,
   "metadata": {},
   "outputs": [],
   "source": [
    "data['gender']=data['gender'].astype('category')\n",
    "data['osas_severity']=data['osas_severity'].astype('category')"
   ]
  },
  {
   "cell_type": "markdown",
   "metadata": {},
   "source": [
    "Let's look at the data by displaying the first 10 rows of it"
   ]
  },
  {
   "cell_type": "code",
   "execution_count": null,
   "metadata": {
    "scrolled": true
   },
   "outputs": [],
   "source": [
    "data.head(10)"
   ]
  },
  {
   "cell_type": "markdown",
   "metadata": {},
   "source": [
    "__APPLICATION EXERCISE__  \n",
    "Below you will find questions about analyzing this data. After each question you will find a code cell and a text cell. Please enter the code for the appropriate statistical test in the code cell below it and run it, based on the output of the test answer the question in the text cell.  \n",
    "If you need additional code cells you can add them by clicking on the button with the plus sign at the top of the page."
   ]
  },
  {
   "cell_type": "markdown",
   "metadata": {},
   "source": [
    "__Question 1__  \n",
    "What is the type of each variable (column) in the dataset table?  \n",
    "Hint: You don't need to run any functions to answer this"
   ]
  },
  {
   "cell_type": "raw",
   "metadata": {},
   "source": [
    "ANSWER:"
   ]
  },
  {
   "cell_type": "markdown",
   "metadata": {},
   "source": [
    "  "
   ]
  },
  {
   "cell_type": "markdown",
   "metadata": {},
   "source": [
    "__Question 2__  \n",
    "What is the mean and standard deviation of the age of male subjects?"
   ]
  },
  {
   "cell_type": "code",
   "execution_count": null,
   "metadata": {},
   "outputs": [],
   "source": []
  },
  {
   "cell_type": "raw",
   "metadata": {},
   "source": [
    "ANSWER:"
   ]
  },
  {
   "cell_type": "markdown",
   "metadata": {},
   "source": [
    "  "
   ]
  },
  {
   "cell_type": "markdown",
   "metadata": {},
   "source": [
    "__Question 3__  \n",
    "Does the BMI values have a normal distribution across OSAS patients and controls?"
   ]
  },
  {
   "cell_type": "code",
   "execution_count": null,
   "metadata": {},
   "outputs": [],
   "source": []
  },
  {
   "cell_type": "raw",
   "metadata": {},
   "source": [
    "ANSWER:"
   ]
  },
  {
   "cell_type": "markdown",
   "metadata": {},
   "source": [
    "  "
   ]
  },
  {
   "cell_type": "markdown",
   "metadata": {},
   "source": [
    "__Question 4__  \n",
    "What is the median and interquartile range of BMI among smokers?"
   ]
  },
  {
   "cell_type": "code",
   "execution_count": null,
   "metadata": {},
   "outputs": [],
   "source": []
  },
  {
   "cell_type": "raw",
   "metadata": {},
   "source": [
    "ANSWER:"
   ]
  },
  {
   "cell_type": "markdown",
   "metadata": {},
   "source": [
    "  "
   ]
  },
  {
   "cell_type": "markdown",
   "metadata": {},
   "source": [
    "__Question 5__  \n",
    "What is the range of AHI among subjects that snore?"
   ]
  },
  {
   "cell_type": "code",
   "execution_count": null,
   "metadata": {},
   "outputs": [],
   "source": []
  },
  {
   "cell_type": "raw",
   "metadata": {},
   "source": [
    "ANSWER:"
   ]
  },
  {
   "cell_type": "markdown",
   "metadata": {},
   "source": [
    "  "
   ]
  },
  {
   "cell_type": "markdown",
   "metadata": {},
   "source": [
    "__Question 6__  \n",
    "How many levels of OSAS severity are there and how many subjects are in each of them?"
   ]
  },
  {
   "cell_type": "code",
   "execution_count": null,
   "metadata": {},
   "outputs": [],
   "source": []
  },
  {
   "cell_type": "raw",
   "metadata": {},
   "source": [
    "ANSWER:"
   ]
  },
  {
   "cell_type": "markdown",
   "metadata": {},
   "source": [
    "  "
   ]
  },
  {
   "cell_type": "markdown",
   "metadata": {},
   "source": [
    "__Question 7__  \n",
    "Is there a difference in the mean age of subjects with and without OSAS?"
   ]
  },
  {
   "cell_type": "code",
   "execution_count": null,
   "metadata": {},
   "outputs": [],
   "source": []
  },
  {
   "cell_type": "raw",
   "metadata": {},
   "source": [
    "ANSWER:"
   ]
  },
  {
   "cell_type": "markdown",
   "metadata": {},
   "source": [
    "  "
   ]
  },
  {
   "cell_type": "markdown",
   "metadata": {},
   "source": [
    "__Question 8__  \n",
    "Is there a difference in the mean BMI of subjects across the severity levels of OSAS?"
   ]
  },
  {
   "cell_type": "code",
   "execution_count": null,
   "metadata": {},
   "outputs": [],
   "source": []
  },
  {
   "cell_type": "code",
   "execution_count": null,
   "metadata": {},
   "outputs": [],
   "source": []
  },
  {
   "cell_type": "raw",
   "metadata": {},
   "source": [
    "ANSWER:"
   ]
  },
  {
   "cell_type": "markdown",
   "metadata": {},
   "source": [
    "  "
   ]
  },
  {
   "cell_type": "markdown",
   "metadata": {},
   "source": [
    "__Question 9__  \n",
    "Is there a difference in the number of subjects with apnea between those with and without OSAS?"
   ]
  },
  {
   "cell_type": "code",
   "execution_count": null,
   "metadata": {
    "scrolled": true
   },
   "outputs": [],
   "source": []
  },
  {
   "cell_type": "raw",
   "metadata": {},
   "source": [
    "ANSWER:"
   ]
  },
  {
   "cell_type": "markdown",
   "metadata": {},
   "source": [
    "  "
   ]
  },
  {
   "cell_type": "markdown",
   "metadata": {},
   "source": [
    "__Question 10__  \n",
    "Can the age predict if a subject will have OSAS?"
   ]
  },
  {
   "cell_type": "code",
   "execution_count": null,
   "metadata": {},
   "outputs": [],
   "source": []
  },
  {
   "cell_type": "raw",
   "metadata": {},
   "source": [
    "ANSWER:"
   ]
  },
  {
   "cell_type": "markdown",
   "metadata": {},
   "source": [
    "  "
   ]
  },
  {
   "cell_type": "markdown",
   "metadata": {},
   "source": [
    "__Question 11__  \n",
    "Did you find this session useful?"
   ]
  },
  {
   "cell_type": "code",
   "execution_count": 1,
   "metadata": {},
   "outputs": [
    {
     "data": {
      "application/vnd.jupyter.widget-view+json": {
       "model_id": "69c0687378a84462b0c2ba2857efe833",
       "version_major": 2,
       "version_minor": 0
      },
      "text/plain": [
       "RadioButtons(description=' ', options=('Yes', 'No'), value='Yes')"
      ]
     },
     "metadata": {},
     "output_type": "display_data"
    }
   ],
   "source": [
    "import ipywidgets as widgets\n",
    "widgets.RadioButtons(\n",
    "    options=['Yes', 'No'],\n",
    "    description=' ',\n",
    "    disabled=False\n",
    ")"
   ]
  },
  {
   "cell_type": "markdown",
   "metadata": {},
   "source": [
    "  "
   ]
  },
  {
   "cell_type": "markdown",
   "metadata": {},
   "source": [
    "__Question 12__  \n",
    "Would you prefer to have future statistics sessions delivered as regular lectures or hands-on exercises like this one?"
   ]
  },
  {
   "cell_type": "code",
   "execution_count": 2,
   "metadata": {},
   "outputs": [
    {
     "data": {
      "application/vnd.jupyter.widget-view+json": {
       "model_id": "705ae811b9254a8885e6ca13e51a7fc7",
       "version_major": 2,
       "version_minor": 0
      },
      "text/plain": [
       "RadioButtons(description=' ', options=('Yes', 'No'), value='Yes')"
      ]
     },
     "metadata": {},
     "output_type": "display_data"
    }
   ],
   "source": [
    "widgets.RadioButtons(\n",
    "    options=['Yes', 'No'],\n",
    "    description=' ',\n",
    "    disabled=False\n",
    ")"
   ]
  },
  {
   "cell_type": "code",
   "execution_count": null,
   "metadata": {},
   "outputs": [],
   "source": []
  }
 ],
 "metadata": {
  "kernelspec": {
   "display_name": "Python 3",
   "language": "python",
   "name": "python3"
  },
  "language_info": {
   "codemirror_mode": {
    "name": "ipython",
    "version": 3
   },
   "file_extension": ".py",
   "mimetype": "text/x-python",
   "name": "python",
   "nbconvert_exporter": "python",
   "pygments_lexer": "ipython3",
   "version": "3.7.2"
  }
 },
 "nbformat": 4,
 "nbformat_minor": 2
}
